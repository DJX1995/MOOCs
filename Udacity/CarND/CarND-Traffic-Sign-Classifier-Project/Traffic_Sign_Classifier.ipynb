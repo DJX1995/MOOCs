{
 "cells": [
  {
   "cell_type": "markdown",
   "metadata": {},
   "source": [
    "# Self-Driving Car Engineer Nanodegree\n",
    "\n",
    "## Deep Learning\n",
    "\n",
    "## Project: Build a Traffic Sign Recognition Classifier\n",
    "\n",
    "In this notebook, a template is provided for you to implement your functionality in stages, which is required to successfully complete this project. If additional code is required that cannot be included in the notebook, be sure that the Python code is successfully imported and included in your submission if necessary. \n",
    "\n",
    "> **Note**: Once you have completed all of the code implementations, you need to finalize your work by exporting the iPython Notebook as an HTML document. Before exporting the notebook to html, all of the code cells need to have been run so that reviewers can see the final implementation and output. You can then export the notebook by using the menu above and navigating to  \\n\",\n",
    "    \"**File -> Download as -> HTML (.html)**. Include the finished document along with this notebook as your submission. \n",
    "\n",
    "In addition to implementing code, there is a writeup to complete. The writeup should be completed in a separate file, which can be either a markdown file or a pdf document. There is a [write up template](https://github.com/udacity/CarND-Traffic-Sign-Classifier-Project/blob/master/writeup_template.md) that can be used to guide the writing process. Completing the code template and writeup template will cover all of the [rubric points](https://review.udacity.com/#!/rubrics/481/view) for this project.\n",
    "\n",
    "The [rubric](https://review.udacity.com/#!/rubrics/481/view) contains \"Stand Out Suggestions\" for enhancing the project beyond the minimum requirements. The stand out suggestions are optional. If you decide to pursue the \"stand out suggestions\", you can include the code in this Ipython notebook and also discuss the results in the writeup file.\n",
    "\n",
    "\n",
    ">**Note:** Code and Markdown cells can be executed using the **Shift + Enter** keyboard shortcut. In addition, Markdown cells can be edited by typically double-clicking the cell to enter edit mode."
   ]
  },
  {
   "cell_type": "markdown",
   "metadata": {},
   "source": [
    "---\n",
    "#  Step -1: Download the data"
   ]
  },
  {
   "cell_type": "code",
   "execution_count": 1,
   "metadata": {},
   "outputs": [
    {
     "name": "stdout",
     "output_type": "stream",
     "text": [
      "Hashes the same for traffic-signs-data/valid.p\n",
      "Hashes the same for traffic-signs-data/test.p\n",
      "Hashes the same for traffic-signs-data/train.p\n"
     ]
    }
   ],
   "source": [
    "# Specify the links and hashes\n",
    "\n",
    "import os, sys\n",
    "\n",
    "md5func = !which md5\n",
    "if len(md5func) == 0:\n",
    "    md5func = !which md5sum\n",
    "    md5func = md5func[0]\n",
    "else:\n",
    "    md5func = md5func[0] + ' -r'\n",
    "\n",
    "def file_hash_valid(folder, file_list):\n",
    "    for file, md5 in file_list.items():\n",
    "        file_path = folder + '/' + file\n",
    "        if not os.path.isfile(file_path):\n",
    "            print (\"File doesn't exist: {}\".format(file_path))\n",
    "            return False\n",
    "        md5_compute = !$md5func $file_path\n",
    "        if md5_compute[0].split()[0] != md5:\n",
    "            print(\"Hashes differ for {}: {} vs. {}\".format(file_path, md5, md5_compute[0]))\n",
    "            return False\n",
    "        else:\n",
    "            print(\"Hashes the same for {}\".format(file_path))\n",
    "    return True\n",
    "\n",
    "data_folder='traffic-signs-data'\n",
    "\n",
    "zip_data_url = 'https://d17h27t6h515a5.cloudfront.net/topher/2017/February/5898cd6f_traffic-signs-data/traffic-signs-data.zip'\n",
    "zip_file_name = zip_data_url.split('/')[-1]\n",
    "zip_data_hash = 'd1f6275a17123ce3fab090105bf222af'\n",
    "file_list = {\n",
    "    'train.p': 'da9bc1eb32b045add8cae0e91a067f44',\n",
    "    'valid.p': '3fa6f457c93d85ec3d1c3d6ad4d775b1',\n",
    "    'test.p': '3d9d6e26048284e40a3f17a414b02981'\n",
    "}\n",
    "\n",
    "need_download = False\n",
    "need_extract = False\n",
    "\n",
    "if not os.path.isdir(data_folder) or not file_hash_valid(data_folder, file_list):\n",
    "    need_extract = True\n",
    "    \n",
    "if need_extract and not os.path.isfile(zip_file_name):\n",
    "    need_download = True\n",
    "    \n",
    "if need_download:\n",
    "    if os.path.isfile(zip_file_name):\n",
    "        !rm -f $zip_file_name\n",
    "    !wget $zip_data_url\n",
    "\n",
    "if need_extract:\n",
    "    downloaded_hash = !$md5func $zip_file_name  \n",
    "    assert zip_data_hash == downloaded_hash[0].split()[0], \"Hashes differ for {}: {} vs. {}\".format(zip_file_name, zip_data_hash, downloaded_hash)\n",
    "    !rm -rf $data_folder\n",
    "    !unzip $zip_file_name -d $data_folder\n",
    "\n",
    "if need_extract or need_download:\n",
    "    assert file_hash_valid(data_folder, file_list)\n",
    "    !rm -f zip_file_name\n",
    "    \n",
    "csv_file_name = 'signnames.csv'\n",
    "csv_file_path = data_folder+'/'+csv_file_name\n",
    "if not os.path.isfile(csv_file_path):\n",
    "    !wget 'https://raw.githubusercontent.com/udacity/CarND-Traffic-Sign-Classifier-Project/master/signnames.csv'\n",
    "    !mv $csv_file_name $csv_file_path"
   ]
  },
  {
   "cell_type": "markdown",
   "metadata": {},
   "source": [
    "---\n",
    "## Step 0: Load The Data"
   ]
  },
  {
   "cell_type": "code",
   "execution_count": 2,
   "metadata": {
    "collapsed": true
   },
   "outputs": [],
   "source": [
    "# Load pickled data\n",
    "import pickle\n",
    "import numpy as np\n",
    "# TODO: Fill this in based on where you saved the training and testing data\n",
    "\n",
    "training_file = data_folder + '/train.p'\n",
    "validation_file = data_folder + '/valid.p'\n",
    "testing_file = data_folder + '/test.p'\n",
    "\n",
    "label_file = data_folder + '/signnames.csv'\n",
    "\n",
    "with open(training_file, mode='rb') as f:\n",
    "    train = pickle.load(f)\n",
    "with open(validation_file, mode='rb') as f:\n",
    "    valid = pickle.load(f)\n",
    "with open(testing_file, mode='rb') as f:\n",
    "    test = pickle.load(f)\n",
    "    \n",
    "X_train_original, y_train = train['features'], train['labels']\n",
    "X_valid_original, y_valid = valid['features'], valid['labels']\n",
    "X_test_original, y_test = test['features'], test['labels']\n",
    "\n",
    "label_map = {}\n",
    "with open(label_file, 'r') as f:\n",
    "    for line in f:\n",
    "        value, label = line.split(',')\n",
    "        if not value.isdigit():\n",
    "            continue\n",
    "        label = label.strip()\n",
    "        value = int(value)\n",
    "        if label_map.get(value, None) is not None:\n",
    "            raise RuntimeError('Duplicate label value!')\n",
    "        label_map[value] = label"
   ]
  },
  {
   "cell_type": "markdown",
   "metadata": {},
   "source": [
    "---\n",
    "\n",
    "## Step 1: Dataset Summary & Exploration\n",
    "\n",
    "The pickled data is a dictionary with 4 key/value pairs:\n",
    "\n",
    "- `'features'` is a 4D array containing raw pixel data of the traffic sign images, (num examples, width, height, channels).\n",
    "- `'labels'` is a 1D array containing the label/class id of the traffic sign. The file `signnames.csv` contains id -> name mappings for each id.\n",
    "- `'sizes'` is a list containing tuples, (width, height) representing the original width and height the image.\n",
    "- `'coords'` is a list containing tuples, (x1, y1, x2, y2) representing coordinates of a bounding box around the sign in the image. **THESE COORDINATES ASSUME THE ORIGINAL IMAGE. THE PICKLED DATA CONTAINS RESIZED VERSIONS (32 by 32) OF THESE IMAGES**\n",
    "\n",
    "Complete the basic data summary below. Use python, numpy and/or pandas methods to calculate the data summary rather than hard coding the results. For example, the [pandas shape method](http://pandas.pydata.org/pandas-docs/stable/generated/pandas.DataFrame.shape.html) might be useful for calculating some of the summary results. "
   ]
  },
  {
   "cell_type": "markdown",
   "metadata": {},
   "source": [
    "### Provide a Basic Summary of the Data Set Using Python, Numpy and/or Pandas"
   ]
  },
  {
   "cell_type": "code",
   "execution_count": 4,
   "metadata": {},
   "outputs": [
    {
     "name": "stdout",
     "output_type": "stream",
     "text": [
      "Number of training examples = 34799\n",
      "Number of testing examples = 12630\n",
      "Image data shape = (32, 32)\n",
      "Number of classes = 43\n"
     ]
    }
   ],
   "source": [
    "### Replace each question mark with the appropriate value. \n",
    "### Use python, pandas or numpy methods rather than hard coding the results\n",
    "\n",
    "# TODO: Number of training examples\n",
    "n_train = X_train_original.shape[0]\n",
    "\n",
    "# TODO: Number of validation examples\n",
    "n_validation = X_valid_original.shape[0]\n",
    "\n",
    "# TODO: Number of testing examples.\n",
    "n_test = X_test_original.shape[0]\n",
    "\n",
    "# TODO: What's the shape of an traffic sign image?\n",
    "image_shape = X_train_original.shape[1:3]\n",
    "\n",
    "# TODO: How many unique classes/labels there are in the dataset.\n",
    "classes = set(y_train).union(y_valid).union(y_test)\n",
    "n_classes = len(classes)\n",
    "\n",
    "print(\"Number of training examples =\", n_train)\n",
    "print(\"Number of testing examples =\", n_test)\n",
    "print(\"Image data shape =\", image_shape)\n",
    "print(\"Number of classes =\", n_classes)"
   ]
  },
  {
   "cell_type": "markdown",
   "metadata": {},
   "source": [
    "### Include an exploratory visualization of the dataset"
   ]
  },
  {
   "cell_type": "markdown",
   "metadata": {},
   "source": [
    "Visualize the German Traffic Signs Dataset using the pickled file(s). This is open ended, suggestions include: plotting traffic sign images, plotting the count of each sign, etc. \n",
    "\n",
    "The [Matplotlib](http://matplotlib.org/) [examples](http://matplotlib.org/examples/index.html) and [gallery](http://matplotlib.org/gallery.html) pages are a great resource for doing visualizations in Python.\n",
    "\n",
    "**NOTE:** It's recommended you start with something simple first. If you wish to do more, come back to it after you've completed the rest of the sections. It can be interesting to look at the distribution of classes in the training, validation and test set. Is the distribution the same? Are there more examples of some classes than others?"
   ]
  },
  {
   "cell_type": "code",
   "execution_count": 5,
   "metadata": {
    "scrolled": false
   },
   "outputs": [
    {
     "data": {
      "image/png": "[encoded data removed]",
      "text/plain": [
       "<matplotlib.figure.Figure at 0x7fe218f4f4e0>"
      ]
     },
     "metadata": {},
     "output_type": "display_data"
    }
   ],
   "source": [
    "### Data exploration visualization code goes here.\n",
    "### Feel free to use as many code cells as needed.\n",
    "import matplotlib.pyplot as plt\n",
    "import random\n",
    "# Visualizations will be shown in the notebook.\n",
    "%matplotlib inline\n",
    "\n",
    "rows = 4\n",
    "cols = 4\n",
    "\n",
    "fig, ax = plt.subplots(rows, cols, figsize=(8, 8), sharex=True, sharey=True)\n",
    "\n",
    "for row in range(rows):\n",
    "    for col in range(cols):\n",
    "        index = random.randint(0, len(X_train_original))\n",
    "        image = X_train_original[index].squeeze()\n",
    "        ax[row,col].imshow(image, cmap=\"gray\")\n",
    "        ax[row,col].set_title(label_map[y_train[index]], fontsize=8)\n",
    "        ax[row,col].set_xticks([])\n",
    "        ax[row,col].set_yticks([])"
   ]
  },
  {
   "cell_type": "markdown",
   "metadata": {},
   "source": [
    "----\n",
    "\n",
    "## Step 2: Design and Test a Model Architecture\n",
    "\n",
    "Design and implement a deep learning model that learns to recognize traffic signs. Train and test your model on the [German Traffic Sign Dataset](http://benchmark.ini.rub.de/?section=gtsrb&subsection=dataset).\n",
    "\n",
    "The LeNet-5 implementation shown in the [classroom](https://classroom.udacity.com/nanodegrees/nd013/parts/fbf77062-5703-404e-b60c-95b78b2f3f9e/modules/6df7ae49-c61c-4bb2-a23e-6527e69209ec/lessons/601ae704-1035-4287-8b11-e2c2716217ad/concepts/d4aca031-508f-4e0b-b493-e7b706120f81) at the end of the CNN lesson is a solid starting point. You'll have to change the number of classes and possibly the preprocessing, but aside from that it's plug and play! \n",
    "\n",
    "With the LeNet-5 solution from the lecture, you should expect a validation set accuracy of about 0.89. To meet specifications, the validation set accuracy will need to be at least 0.93. It is possible to get an even higher accuracy, but 0.93 is the minimum for a successful project submission. \n",
    "\n",
    "There are various aspects to consider when thinking about this problem:\n",
    "\n",
    "- Neural network architecture (is the network over or underfitting?)\n",
    "- Play around preprocessing techniques (normalization, rgb to grayscale, etc)\n",
    "- Number of examples per label (some have more than others).\n",
    "- Generate fake data.\n",
    "\n",
    "Here is an example of a [published baseline model on this problem](http://yann.lecun.com/exdb/publis/pdf/sermanet-ijcnn-11.pdf). It's not required to be familiar with the approach used in the paper but, it's good practice to try to read papers like these."
   ]
  },
  {
   "cell_type": "markdown",
   "metadata": {},
   "source": [
    "### Pre-process the Data Set (normalization, grayscale, etc.)"
   ]
  },
  {
   "cell_type": "markdown",
   "metadata": {},
   "source": [
    "Minimally, the image data should be normalized so that the data has mean zero and equal variance. For image data, `(pixel - 128)/ 128` is a quick way to approximately normalize the data and can be used in this project. \n",
    "\n",
    "Other pre-processing steps are optional. You can try different techniques to see if it improves performance. \n",
    "\n",
    "Use the code cell (or multiple code cells, if necessary) to implement the first step of your project."
   ]
  },
  {
   "cell_type": "code",
   "execution_count": 6,
   "metadata": {
    "collapsed": true
   },
   "outputs": [],
   "source": [
    "### Preprocess the data here. It is required to normalize the data. Other preprocessing steps could include \n",
    "### converting to grayscale, etc.\n",
    "### Feel free to use as many code cells as needed."
   ]
  },
  {
   "cell_type": "code",
   "execution_count": 7,
   "metadata": {
    "collapsed": true
   },
   "outputs": [],
   "source": [
    "# Nomalize all data\n",
    "def normalize_image_data(data, minimum=0, maximum=255):\n",
    "    # Check if already normalized:\n",
    "    if data.max() <= 1. and data.min() >= -1:\n",
    "        return data\n",
    "    scale = (maximum+1-minimum) / 2.\n",
    "    return (data - scale) / scale\n",
    "\n",
    "X_train = normalize_image_data(X_train_original)\n",
    "X_valid = normalize_image_data(X_valid_original)\n",
    "X_test = normalize_image_data(X_test_original)"
   ]
  },
  {
   "cell_type": "code",
   "execution_count": 8,
   "metadata": {},
   "outputs": [
    {
     "name": "stderr",
     "output_type": "stream",
     "text": [
      "Using TensorFlow backend.\n"
     ]
    }
   ],
   "source": [
    "# Preprocess data\n",
    "import keras\n",
    "from keras.preprocessing.image import ImageDataGenerator\n",
    "\n",
    "datagen = keras.preprocessing.image.ImageDataGenerator(\n",
    "    rotation_range=8,\n",
    "    width_shift_range=0.1,\n",
    "    height_shift_range=0.1,\n",
    "    shear_range=0.1,\n",
    "    zoom_range=0.1,\n",
    "    fill_mode='nearest',\n",
    "    horizontal_flip=False,\n",
    "    vertical_flip=False\n",
    ")\n"
   ]
  },
  {
   "cell_type": "code",
   "execution_count": 18,
   "metadata": {},
   "outputs": [
    {
     "name": "stderr",
     "output_type": "stream",
     "text": [
      "\r",
      "  0%|          | 0/43 [00:00<?, ?it/s]"
     ]
    },
    {
     "name": "stdout",
     "output_type": "stream",
     "text": [
      "Augmenting Image Data...\n"
     ]
    },
    {
     "name": "stderr",
     "output_type": "stream",
     "text": [
      "100%|██████████| 43/43 [02:06<00:00,  4.06s/it]\n"
     ]
    }
   ],
   "source": [
    "import os\n",
    "import numpy as np\n",
    "from tqdm import tqdm\n",
    "from sklearn.utils import shuffle\n",
    "\n",
    "total_image_per_class = 5000\n",
    "X_train_augmented = np.empty((0,32,32,3))\n",
    "y_train_augmented = np.empty(0,dtype='uint8')\n",
    "\n",
    "print('Augmenting Image Data...')\n",
    "for i in tqdm(range(n_classes)):\n",
    "    index = [y_train==i]\n",
    "    images_for_i_class = X_train[y_train==i]\n",
    "    y_i_class = y_train[y_train==i]\n",
    "\n",
    "    X_train_augmented_i = np.copy(images_for_i_class)\n",
    "    y_train_augmented_i = np.copy(y_i_class)\n",
    "\n",
    "    for X,y in datagen.flow(images_for_i_class, y_i_class, batch_size=len(y_i_class), seed=9345+i*37):            \n",
    "        X_train_augmented_i = np.append(X_train_augmented_i, X, axis=0)\n",
    "        y_train_augmented_i = np.append(y_train_augmented_i, y, axis=0)\n",
    "\n",
    "        if len(X_train_augmented_i) >= total_image_per_class:\n",
    "            break\n",
    "\n",
    "    X_train_augmented = np.append(X_train_augmented, X_train_augmented_i[:5000], axis=0)\n",
    "    y_train_augmented = np.append(y_train_augmented, y_train_augmented_i[:5000], axis=0)              \n",
    "\n",
    "\n",
    "X_train_augmented, y_train_augmented = shuffle(X_train_augmented, y_train_augmented, random_state=9345)\n",
    "\n",
    "# Storing for checkpoint2\n",
    "X_train_augmented = X_train_augmented.astype('float32')\n"
   ]
  },
  {
   "cell_type": "code",
   "execution_count": 19,
   "metadata": {},
   "outputs": [],
   "source": [
    "from sklearn.utils import shuffle\n",
    "X_train, y_train = shuffle(X_train_augmented, y_train_augmented)"
   ]
  },
  {
   "cell_type": "markdown",
   "metadata": {},
   "source": [
    "### Model Architecture"
   ]
  },
  {
   "cell_type": "code",
   "execution_count": 20,
   "metadata": {
    "collapsed": true
   },
   "outputs": [],
   "source": [
    "### Define your architecture here.\n",
    "### Feel free to use as many code cells as needed.\n",
    "import tensorflow as tf\n",
    "\n",
    "# Misc methods\n",
    "shape1xx1 = lambda x: [1, x, x, 1]"
   ]
  },
  {
   "cell_type": "code",
   "execution_count": 21,
   "metadata": {},
   "outputs": [],
   "source": [
    "# Setup architecture parser\n",
    "def process_layer(layer, inbound, **kwargs):\n",
    "    outbound = inbound\n",
    "    if layer.get('init', None) is not None:\n",
    "        # We need weight and bias\n",
    "        W = tf.Variable(layer['init']['func'](**layer['init']['kwargs']))\n",
    "        b = tf.Variable(layer['init']['func']([layer['init']['kwargs']['shape'][-1]]))\n",
    "        outbound = layer['layer']['func'](inbound, W, **layer['layer']['kwargs'])\n",
    "        outbound = tf.nn.bias_add(outbound, b)\n",
    "    elif layer.get('layer', None) is None:\n",
    "        # Special case, run the activation only with named kwargs parameters\n",
    "        # print kwargs.get(layer['activation']['name'])\n",
    "        outbound = layer['activation']['func'](outbound, **(kwargs.get(layer['activation']['name'],{})))\n",
    "        return outbound\n",
    "    else:\n",
    "        # We don't need weight or bias\n",
    "        outbound = layer['layer']['func'](inbound, **layer['layer']['kwargs'])\n",
    "\n",
    "    if layer.get('activation', None) is not None:\n",
    "        outbound = layer['activation']['func'](outbound, **layer['activation']['kwargs'])\n",
    "    return outbound\n",
    "\n",
    "def neural_network(arch, x, **kwargs):\n",
    "    inbound = x\n",
    "    for layer in arch:\n",
    "        inbound = process_layer(layer, inbound, **kwargs)\n",
    "    return inbound"
   ]
  },
  {
   "cell_type": "code",
   "execution_count": 22,
   "metadata": {},
   "outputs": [],
   "source": [
    "# Setup parameters\n",
    "EPOCHS = 15\n",
    "BATCH_SIZE = 128\n",
    "\n",
    "mu = 0.\n",
    "sigma = 0.1\n",
    "\n",
    "# Specify architecture\n",
    "arch = [\n",
    "   \n",
    "    # Conv Layer: 32x32x3 -> 28x28x6 -> 14x14x6\n",
    "  {\n",
    "    'init': {\n",
    "      'func': tf.truncated_normal,\n",
    "      'kwargs': {\n",
    "        'shape': [5, 5, 3, 6],\n",
    "        'mean': mu,\n",
    "        'stddev': sigma\n",
    "      }\n",
    "    },\n",
    "    'layer': {\n",
    "      'func': tf.nn.conv2d,\n",
    "      'kwargs': {\n",
    "        'strides': shape1xx1(1),\n",
    "        'padding': 'VALID',\n",
    "      }\n",
    "    },\n",
    "    'activation': {\n",
    "      'func': tf.nn.relu,\n",
    "      'kwargs': {}\n",
    "    }\n",
    "  },    \n",
    "  {\n",
    "    'init': None,\n",
    "    'layer': {\n",
    "      'func': tf.nn.max_pool,\n",
    "      'kwargs': {\n",
    "        'ksize': shape1xx1(2),\n",
    "        'strides': shape1xx1(2),\n",
    "        'padding': 'VALID',\n",
    "      }\n",
    "    },\n",
    "    'activation': None\n",
    "  },\n",
    "    \n",
    "    # Dropout Layer\n",
    "  { # Special layer, takes arguments from the function\n",
    "      'init': None,\n",
    "      'layer': None,\n",
    "      'activation': {\n",
    "          'func': tf.nn.dropout,\n",
    "          'name': 'DO_conv'\n",
    "      }\n",
    "  },\n",
    "\n",
    "    # Conv Layer: 14x14x10 -> 10x10x16 -> 5x5x16\n",
    "  {\n",
    "    'init': {\n",
    "      'func': tf.truncated_normal,\n",
    "      'kwargs': {\n",
    "        'shape': [5, 5, 6, 16],\n",
    "        'mean': mu,\n",
    "        'stddev': sigma\n",
    "      }\n",
    "    },\n",
    "    'layer': {\n",
    "      'func': tf.nn.conv2d,\n",
    "      'kwargs': {\n",
    "        'strides': shape1xx1(1),\n",
    "        'padding': 'VALID',\n",
    "      }\n",
    "    },\n",
    "    'activation': {\n",
    "      'func': tf.nn.relu,\n",
    "      'kwargs': {}\n",
    "    }\n",
    "  },\n",
    "  {\n",
    "    'init': None,\n",
    "    'layer': {\n",
    "      'func': tf.nn.max_pool,\n",
    "      'kwargs': {\n",
    "        'ksize': shape1xx1(2),\n",
    "        'strides': shape1xx1(2),\n",
    "        'padding': 'VALID',\n",
    "      }\n",
    "    },\n",
    "    'activation': None\n",
    "  },\n",
    "    \n",
    "    # Dropout Layer\n",
    "  { # Special layer, takes arguments from the function\n",
    "      'init': None,\n",
    "      'layer': None,\n",
    "      'activation': {\n",
    "          'func': tf.nn.dropout,\n",
    "          'name': 'DO_conv'\n",
    "      }\n",
    "  },\n",
    "    \n",
    "    # Flatten Layer: 5x5x16 -> 400\n",
    "  {\n",
    "    'init': None,\n",
    "    'layer': {\n",
    "      'func': tf.contrib.layers.flatten,\n",
    "      'kwargs': {}\n",
    "    },\n",
    "    'activation': None\n",
    "  },\n",
    "    \n",
    "    # FC Layer: 400 -> 120\n",
    "  {\n",
    "    'init': {\n",
    "      'func': tf.truncated_normal,\n",
    "      'kwargs': {\n",
    "        'shape': [400, 120],\n",
    "        'mean': mu,\n",
    "        'stddev': sigma\n",
    "      }\n",
    "    },\n",
    "    'layer': {\n",
    "      'func': tf.matmul,\n",
    "      'kwargs': {}\n",
    "    },\n",
    "    'activation': {\n",
    "      'func': tf.nn.relu,\n",
    "      'kwargs': {}\n",
    "    }\n",
    "  },\n",
    "    \n",
    "    # Dropout Layer\n",
    "  { # Special layer, takes arguments from the function\n",
    "      'init': None,\n",
    "      'layer': None,\n",
    "      'activation': {\n",
    "          'func': tf.nn.dropout,\n",
    "          'name': 'DO_fc'\n",
    "      }\n",
    "  },\n",
    "    \n",
    "    # FC Layer: 120 -> 84\n",
    "  {\n",
    "    'init': {\n",
    "      'func': tf.truncated_normal,\n",
    "      'kwargs': {\n",
    "        'shape': [120, 84],\n",
    "        'mean': mu,\n",
    "        'stddev': sigma\n",
    "      }\n",
    "    },\n",
    "    'layer': {\n",
    "      'func': tf.matmul,\n",
    "      'kwargs': {}\n",
    "    },\n",
    "    'activation': {\n",
    "      'func': tf.nn.relu,\n",
    "      'kwargs': {}\n",
    "    }\n",
    "  },\n",
    "    \n",
    "    # Dropout Layer\n",
    "  { # Special layer, takes arguments from the function\n",
    "      'init': None,\n",
    "      'layer': None,\n",
    "      'activation': {\n",
    "          'func': tf.nn.dropout,\n",
    "          'name': 'DO_fc'\n",
    "      }\n",
    "  },\n",
    "    \n",
    "    # Logit Layer: 84 -> 43\n",
    "  {\n",
    "    'init': {\n",
    "      'func': tf.truncated_normal,\n",
    "      'kwargs': {\n",
    "        'shape': [84, 43],\n",
    "        'mean': mu,\n",
    "        'stddev': sigma\n",
    "      }\n",
    "    },\n",
    "    'layer': {\n",
    "      'func': tf.matmul,\n",
    "      'kwargs': {}\n",
    "    },\n",
    "    'activation': None\n",
    "  }\n",
    "]"
   ]
  },
  {
   "cell_type": "code",
   "execution_count": 23,
   "metadata": {
    "collapsed": true
   },
   "outputs": [],
   "source": [
    "# Create placeholders\n",
    "x = tf.placeholder(tf.float32, (None, 32, 32, 3))\n",
    "y = tf.placeholder(tf.int32, (None))\n",
    "one_hot_y = tf.one_hot(y, 43)\n",
    "\n",
    "keep_prob_conv = tf.placeholder(tf.float32)\n",
    "keep_prob_fc = tf.placeholder(tf.float32)"
   ]
  },
  {
   "cell_type": "markdown",
   "metadata": {},
   "source": [
    "### Train, Validate and Test the Model"
   ]
  },
  {
   "cell_type": "markdown",
   "metadata": {},
   "source": [
    "A validation set can be used to assess how well the model is performing. A low accuracy on the training and validation\n",
    "sets imply underfitting. A high accuracy on the training set but low accuracy on the validation set implies overfitting."
   ]
  },
  {
   "cell_type": "code",
   "execution_count": 24,
   "metadata": {},
   "outputs": [],
   "source": [
    "### Train your model here.\n",
    "### Calculate and report the accuracy on the training and validation set.\n",
    "### Once a final model architecture is selected, \n",
    "### the accuracy on the test set should be calculated and reported as well.\n",
    "### Feel free to use as many code cells as needed.\n",
    "\n",
    "rate = 0.001\n",
    "\n",
    "kwargs = {'DO_conv': {'keep_prob':keep_prob_conv}, 'DO_fc': {'keep_prob':keep_prob_fc}}\n",
    "\n",
    "logits = neural_network(arch, x, **kwargs)\n",
    "cross_entropy = tf.nn.softmax_cross_entropy_with_logits(labels=one_hot_y, logits=logits)\n",
    "loss_operation = tf.reduce_mean(cross_entropy)\n",
    "optimizer = tf.train.AdamOptimizer(learning_rate = rate)\n",
    "training_operation = optimizer.minimize(loss_operation)"
   ]
  },
  {
   "cell_type": "code",
   "execution_count": 25,
   "metadata": {
    "collapsed": true
   },
   "outputs": [],
   "source": [
    "# Evaluate:\n",
    "correct_prediction = tf.equal(tf.argmax(logits, 1), tf.argmax(one_hot_y, 1))\n",
    "accuracy_operation = tf.reduce_mean(tf.cast(correct_prediction, tf.float32))\n",
    "saver = tf.train.Saver()\n",
    "\n",
    "def evaluate(X_data, y_data, dropout):\n",
    "    num_examples = len(X_data)\n",
    "    total_accuracy = 0\n",
    "    sess = tf.get_default_session()\n",
    "    for offset in range(0, num_examples, BATCH_SIZE):\n",
    "        batch_x, batch_y = X_data[offset:offset+BATCH_SIZE], y_data[offset:offset+BATCH_SIZE]\n",
    "        accuracy = sess.run(accuracy_operation, feed_dict={x: batch_x, y: batch_y, keep_prob_conv: dropout, keep_prob_fc: dropout})\n",
    "        total_accuracy += (accuracy * len(batch_x))\n",
    "    return total_accuracy / num_examples"
   ]
  },
  {
   "cell_type": "code",
   "execution_count": null,
   "metadata": {},
   "outputs": [
    {
     "name": "stdout",
     "output_type": "stream",
     "text": [
      "Training...\n",
      "\n",
      "EPOCH 1 ...\n",
      "Training Accuracy = 0.564\n",
      "Validation Accuracy = 0.573\n",
      "\n",
      "EPOCH 2 ...\n",
      "Training Accuracy = 0.713\n",
      "Validation Accuracy = 0.707\n",
      "\n",
      "EPOCH 3 ...\n",
      "Training Accuracy = 0.773\n",
      "Validation Accuracy = 0.758\n",
      "\n",
      "EPOCH 4 ...\n",
      "Training Accuracy = 0.811\n",
      "Validation Accuracy = 0.789\n",
      "\n"
     ]
    }
   ],
   "source": [
    "keep_prob_conv_val = 1.\n",
    "keep_prob_fc_val = .5\n",
    "\n",
    "with tf.Session() as sess:\n",
    "    sess.run(tf.global_variables_initializer())\n",
    "    num_examples = len(X_train)\n",
    "    \n",
    "    print(\"Training...\")\n",
    "    print()\n",
    "    for i in range(EPOCHS):\n",
    "        X_train, y_train = shuffle(X_train, y_train)\n",
    "        for offset in range(0, num_examples, BATCH_SIZE):\n",
    "            end = offset + BATCH_SIZE\n",
    "            batch_x, batch_y = X_train[offset:end], y_train[offset:end]\n",
    "            sess.run(training_operation, feed_dict={x: batch_x, y: batch_y, keep_prob_conv: keep_prob_conv_val, keep_prob_fc: keep_prob_fc_val})\n",
    "            \n",
    "        validation_accuracy = evaluate(X_valid, y_valid, 1.)\n",
    "        training_accuracy = evaluate(X_train, y_train, 1.)\n",
    "        print(\"EPOCH {} ...\".format(i+1))\n",
    "        print(\"Training Accuracy = {:.3f}\".format(training_accuracy))\n",
    "        print(\"Validation Accuracy = {:.3f}\".format(validation_accuracy))\n",
    "        print()\n",
    "        \n",
    "    saver.save(sess, './lenet')\n",
    "    print(\"Model saved\")"
   ]
  },
  {
   "cell_type": "markdown",
   "metadata": {},
   "source": [
    "---\n",
    "\n",
    "## Step 3: Test a Model on New Images\n",
    "\n",
    "To give yourself more insight into how your model is working, download at least five pictures of German traffic signs from the web and use your model to predict the traffic sign type.\n",
    "\n",
    "You may find `signnames.csv` useful as it contains mappings from the class id (integer) to the actual sign name."
   ]
  },
  {
   "cell_type": "markdown",
   "metadata": {},
   "source": [
    "### Load and Output the Images"
   ]
  },
  {
   "cell_type": "code",
   "execution_count": null,
   "metadata": {
    "collapsed": true
   },
   "outputs": [],
   "source": [
    "### Load the images and plot them here.\n",
    "### Feel free to use as many code cells as needed."
   ]
  },
  {
   "cell_type": "markdown",
   "metadata": {},
   "source": [
    "### Predict the Sign Type for Each Image"
   ]
  },
  {
   "cell_type": "code",
   "execution_count": null,
   "metadata": {
    "collapsed": true
   },
   "outputs": [],
   "source": [
    "### Run the predictions here and use the model to output the prediction for each image.\n",
    "### Make sure to pre-process the images with the same pre-processing pipeline used earlier.\n",
    "### Feel free to use as many code cells as needed."
   ]
  },
  {
   "cell_type": "markdown",
   "metadata": {},
   "source": [
    "### Analyze Performance"
   ]
  },
  {
   "cell_type": "code",
   "execution_count": null,
   "metadata": {
    "collapsed": true
   },
   "outputs": [],
   "source": [
    "### Calculate the accuracy for these 5 new images. \n",
    "### For example, if the model predicted 1 out of 5 signs correctly, it's 20% accurate on these new images."
   ]
  },
  {
   "cell_type": "markdown",
   "metadata": {},
   "source": [
    "### Output Top 5 Softmax Probabilities For Each Image Found on the Web"
   ]
  },
  {
   "cell_type": "markdown",
   "metadata": {},
   "source": [
    "For each of the new images, print out the model's softmax probabilities to show the **certainty** of the model's predictions (limit the output to the top 5 probabilities for each image). [`tf.nn.top_k`](https://www.tensorflow.org/versions/r0.12/api_docs/python/nn.html#top_k) could prove helpful here. \n",
    "\n",
    "The example below demonstrates how tf.nn.top_k can be used to find the top k predictions for each image.\n",
    "\n",
    "`tf.nn.top_k` will return the values and indices (class ids) of the top k predictions. So if k=3, for each sign, it'll return the 3 largest probabilities (out of a possible 43) and the correspoding class ids.\n",
    "\n",
    "Take this numpy array as an example. The values in the array represent predictions. The array contains softmax probabilities for five candidate images with six possible classes. `tf.nn.top_k` is used to choose the three classes with the highest probability:\n",
    "\n",
    "```\n",
    "# (5, 6) array\n",
    "a = np.array([[ 0.24879643,  0.07032244,  0.12641572,  0.34763842,  0.07893497,\n",
    "         0.12789202],\n",
    "       [ 0.28086119,  0.27569815,  0.08594638,  0.0178669 ,  0.18063401,\n",
    "         0.15899337],\n",
    "       [ 0.26076848,  0.23664738,  0.08020603,  0.07001922,  0.1134371 ,\n",
    "         0.23892179],\n",
    "       [ 0.11943333,  0.29198961,  0.02605103,  0.26234032,  0.1351348 ,\n",
    "         0.16505091],\n",
    "       [ 0.09561176,  0.34396535,  0.0643941 ,  0.16240774,  0.24206137,\n",
    "         0.09155967]])\n",
    "```\n",
    "\n",
    "Running it through `sess.run(tf.nn.top_k(tf.constant(a), k=3))` produces:\n",
    "\n",
    "```\n",
    "TopKV2(values=array([[ 0.34763842,  0.24879643,  0.12789202],\n",
    "       [ 0.28086119,  0.27569815,  0.18063401],\n",
    "       [ 0.26076848,  0.23892179,  0.23664738],\n",
    "       [ 0.29198961,  0.26234032,  0.16505091],\n",
    "       [ 0.34396535,  0.24206137,  0.16240774]]), indices=array([[3, 0, 5],\n",
    "       [0, 1, 4],\n",
    "       [0, 5, 1],\n",
    "       [1, 3, 5],\n",
    "       [1, 4, 3]], dtype=int32))\n",
    "```\n",
    "\n",
    "Looking just at the first row we get `[ 0.34763842,  0.24879643,  0.12789202]`, you can confirm these are the 3 largest probabilities in `a`. You'll also notice `[3, 0, 5]` are the corresponding indices."
   ]
  },
  {
   "cell_type": "code",
   "execution_count": null,
   "metadata": {
    "collapsed": true
   },
   "outputs": [],
   "source": [
    "### Print out the top five softmax probabilities for the predictions on the German traffic sign images found on the web. \n",
    "### Feel free to use as many code cells as needed."
   ]
  },
  {
   "cell_type": "markdown",
   "metadata": {},
   "source": [
    "### Project Writeup\n",
    "\n",
    "Once you have completed the code implementation, document your results in a project writeup using this [template](https://github.com/udacity/CarND-Traffic-Sign-Classifier-Project/blob/master/writeup_template.md) as a guide. The writeup can be in a markdown or pdf file. "
   ]
  },
  {
   "cell_type": "markdown",
   "metadata": {},
   "source": [
    "> **Note**: Once you have completed all of the code implementations and successfully answered each question above, you may finalize your work by exporting the iPython Notebook as an HTML document. You can do this by using the menu above and navigating to  \\n\",\n",
    "    \"**File -> Download as -> HTML (.html)**. Include the finished document along with this notebook as your submission."
   ]
  },
  {
   "cell_type": "markdown",
   "metadata": {},
   "source": [
    "---\n",
    "\n",
    "## Step 4 (Optional): Visualize the Neural Network's State with Test Images\n",
    "\n",
    " This Section is not required to complete but acts as an additional excersise for understaning the output of a neural network's weights. While neural networks can be a great learning device they are often referred to as a black box. We can understand what the weights of a neural network look like better by plotting their feature maps. After successfully training your neural network you can see what it's feature maps look like by plotting the output of the network's weight layers in response to a test stimuli image. From these plotted feature maps, it's possible to see what characteristics of an image the network finds interesting. For a sign, maybe the inner network feature maps react with high activation to the sign's boundary outline or to the contrast in the sign's painted symbol.\n",
    "\n",
    " Provided for you below is the function code that allows you to get the visualization output of any tensorflow weight layer you want. The inputs to the function should be a stimuli image, one used during training or a new one you provided, and then the tensorflow variable name that represents the layer's state during the training process, for instance if you wanted to see what the [LeNet lab's](https://classroom.udacity.com/nanodegrees/nd013/parts/fbf77062-5703-404e-b60c-95b78b2f3f9e/modules/6df7ae49-c61c-4bb2-a23e-6527e69209ec/lessons/601ae704-1035-4287-8b11-e2c2716217ad/concepts/d4aca031-508f-4e0b-b493-e7b706120f81) feature maps looked like for it's second convolutional layer you could enter conv2 as the tf_activation variable.\n",
    "\n",
    "For an example of what feature map outputs look like, check out NVIDIA's results in their paper [End-to-End Deep Learning for Self-Driving Cars](https://devblogs.nvidia.com/parallelforall/deep-learning-self-driving-cars/) in the section Visualization of internal CNN State. NVIDIA was able to show that their network's inner weights had high activations to road boundary lines by comparing feature maps from an image with a clear path to one without. Try experimenting with a similar test to show that your trained network's weights are looking for interesting features, whether it's looking at differences in feature maps from images with or without a sign, or even what feature maps look like in a trained network vs a completely untrained one on the same sign image.\n",
    "\n",
    "<figure>\n",
    " <img src=\"visualize_cnn.png\" width=\"380\" alt=\"Combined Image\" />\n",
    " <figcaption>\n",
    " <p></p> \n",
    " <p style=\"text-align: center;\"> Your output should look something like this (above)</p> \n",
    " </figcaption>\n",
    "</figure>\n",
    " <p></p> \n"
   ]
  },
  {
   "cell_type": "code",
   "execution_count": null,
   "metadata": {
    "collapsed": true
   },
   "outputs": [],
   "source": [
    "### Visualize your network's feature maps here.\n",
    "### Feel free to use as many code cells as needed.\n",
    "\n",
    "# image_input: the test image being fed into the network to produce the feature maps\n",
    "# tf_activation: should be a tf variable name used during your training procedure that represents the calculated state of a specific weight layer\n",
    "# activation_min/max: can be used to view the activation contrast in more detail, by default matplot sets min and max to the actual min and max values of the output\n",
    "# plt_num: used to plot out multiple different weight feature map sets on the same block, just extend the plt number for each new feature map entry\n",
    "\n",
    "def outputFeatureMap(image_input, tf_activation, activation_min=-1, activation_max=-1 ,plt_num=1):\n",
    "    # Here make sure to preprocess your image_input in a way your network expects\n",
    "    # with size, normalization, ect if needed\n",
    "    # image_input =\n",
    "    # Note: x should be the same name as your network's tensorflow data placeholder variable\n",
    "    # If you get an error tf_activation is not defined it may be having trouble accessing the variable from inside a function\n",
    "    activation = tf_activation.eval(session=sess,feed_dict={x : image_input})\n",
    "    featuremaps = activation.shape[3]\n",
    "    plt.figure(plt_num, figsize=(15,15))\n",
    "    for featuremap in range(featuremaps):\n",
    "        plt.subplot(6,8, featuremap+1) # sets the number of feature maps to show on each row and column\n",
    "        plt.title('FeatureMap ' + str(featuremap)) # displays the feature map number\n",
    "        if activation_min != -1 & activation_max != -1:\n",
    "            plt.imshow(activation[0,:,:, featuremap], interpolation=\"nearest\", vmin =activation_min, vmax=activation_max, cmap=\"gray\")\n",
    "        elif activation_max != -1:\n",
    "            plt.imshow(activation[0,:,:, featuremap], interpolation=\"nearest\", vmax=activation_max, cmap=\"gray\")\n",
    "        elif activation_min !=-1:\n",
    "            plt.imshow(activation[0,:,:, featuremap], interpolation=\"nearest\", vmin=activation_min, cmap=\"gray\")\n",
    "        else:\n",
    "            plt.imshow(activation[0,:,:, featuremap], interpolation=\"nearest\", cmap=\"gray\")"
   ]
  }
 ],
 "metadata": {
  "anaconda-cloud": {},
  "kernelspec": {
   "display_name": "Python 3",
   "language": "python",
   "name": "python3"
  },
  "language_info": {
   "codemirror_mode": {
    "name": "ipython",
    "version": 3
   },
   "file_extension": ".py",
   "mimetype": "text/x-python",
   "name": "python",
   "nbconvert_exporter": "python",
   "pygments_lexer": "ipython3",
   "version": "3.5.2"
  },
  "widgets": {
   "state": {},
   "version": "1.1.2"
  }
 },
 "nbformat": 4,
 "nbformat_minor": 1
}
