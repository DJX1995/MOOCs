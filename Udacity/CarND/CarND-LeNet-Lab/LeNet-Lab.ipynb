{
 "cells": [
  {
   "cell_type": "markdown",
   "metadata": {},
   "source": [
    "# LeNet Lab\n",
    "![LeNet Architecture](lenet.png)\n",
    "Source: Yan LeCun"
   ]
  },
  {
   "cell_type": "markdown",
   "metadata": {},
   "source": [
    "## Load Data\n",
    "\n",
    "Load the MNIST data, which comes pre-loaded with TensorFlow.\n",
    "\n",
    "You do not need to modify this section."
   ]
  },
  {
   "cell_type": "code",
   "execution_count": 27,
   "metadata": {},
   "outputs": [
    {
     "name": "stdout",
     "output_type": "stream",
     "text": [
      "Extracting MNIST_data/train-images-idx3-ubyte.gz\n",
      "Extracting MNIST_data/train-labels-idx1-ubyte.gz\n",
      "Extracting MNIST_data/t10k-images-idx3-ubyte.gz\n",
      "Extracting MNIST_data/t10k-labels-idx1-ubyte.gz\n",
      "\n",
      "Image Shape: (28, 28, 1)\n",
      "\n",
      "Training Set:   55000 samples\n",
      "Validation Set: 5000 samples\n",
      "Test Set:       10000 samples\n"
     ]
    }
   ],
   "source": [
    "from tensorflow.examples.tutorials.mnist import input_data\n",
    "\n",
    "mnist = input_data.read_data_sets(\"MNIST_data/\", reshape=False)\n",
    "X_train, y_train           = mnist.train.images, mnist.train.labels\n",
    "X_validation, y_validation = mnist.validation.images, mnist.validation.labels\n",
    "X_test, y_test             = mnist.test.images, mnist.test.labels\n",
    "\n",
    "assert(len(X_train) == len(y_train))\n",
    "assert(len(X_validation) == len(y_validation))\n",
    "assert(len(X_test) == len(y_test))\n",
    "\n",
    "print()\n",
    "print(\"Image Shape: {}\".format(X_train[0].shape))\n",
    "print()\n",
    "print(\"Training Set:   {} samples\".format(len(X_train)))\n",
    "print(\"Validation Set: {} samples\".format(len(X_validation)))\n",
    "print(\"Test Set:       {} samples\".format(len(X_test)))"
   ]
  },
  {
   "cell_type": "markdown",
   "metadata": {},
   "source": [
    "The MNIST data that TensorFlow pre-loads comes as 28x28x1 images.\n",
    "\n",
    "However, the LeNet architecture only accepts 32x32xC images, where C is the number of color channels.\n",
    "\n",
    "In order to reformat the MNIST data into a shape that LeNet will accept, we pad the data with two rows of zeros on the top and bottom, and two columns of zeros on the left and right (28+2+2 = 32).\n",
    "\n",
    "You do not need to modify this section."
   ]
  },
  {
   "cell_type": "code",
   "execution_count": 28,
   "metadata": {},
   "outputs": [
    {
     "name": "stdout",
     "output_type": "stream",
     "text": [
      "Updated Image Shape: (32, 32, 1)\n"
     ]
    }
   ],
   "source": [
    "import numpy as np\n",
    "\n",
    "# Pad images with 0s\n",
    "X_train      = np.pad(X_train, ((0,0),(2,2),(2,2),(0,0)), 'constant')\n",
    "X_validation = np.pad(X_validation, ((0,0),(2,2),(2,2),(0,0)), 'constant')\n",
    "X_test       = np.pad(X_test, ((0,0),(2,2),(2,2),(0,0)), 'constant')\n",
    "    \n",
    "print(\"Updated Image Shape: {}\".format(X_train[0].shape))"
   ]
  },
  {
   "cell_type": "markdown",
   "metadata": {},
   "source": [
    "## Visualize Data\n",
    "\n",
    "View a sample from the dataset.\n",
    "\n",
    "You do not need to modify this section."
   ]
  },
  {
   "cell_type": "code",
   "execution_count": 29,
   "metadata": {},
   "outputs": [
    {
     "name": "stdout",
     "output_type": "stream",
     "text": [
      "1\n"
     ]
    },
    {
     "data": {
      "image/png": "[encoded data removed]",
      "text/plain": [
       "<matplotlib.figure.Figure at 0x7f96fe54fb00>"
      ]
     },
     "metadata": {},
     "output_type": "display_data"
    }
   ],
   "source": [
    "import random\n",
    "import numpy as np\n",
    "import matplotlib.pyplot as plt\n",
    "%matplotlib inline\n",
    "\n",
    "index = random.randint(0, len(X_train))\n",
    "image = X_train[index].squeeze()\n",
    "\n",
    "plt.figure(figsize=(1,1))\n",
    "plt.imshow(image, cmap=\"gray\")\n",
    "print(y_train[index])"
   ]
  },
  {
   "cell_type": "markdown",
   "metadata": {},
   "source": [
    "## Preprocess Data\n",
    "\n",
    "Shuffle the training data.\n",
    "\n",
    "You do not need to modify this section."
   ]
  },
  {
   "cell_type": "code",
   "execution_count": 30,
   "metadata": {
    "collapsed": true
   },
   "outputs": [],
   "source": [
    "from sklearn.utils import shuffle\n",
    "\n",
    "X_train, y_train = shuffle(X_train, y_train)"
   ]
  },
  {
   "cell_type": "markdown",
   "metadata": {},
   "source": [
    "## Setup TensorFlow\n",
    "The `EPOCH` and `BATCH_SIZE` values affect the training speed and model accuracy.\n",
    "\n",
    "You do not need to modify this section."
   ]
  },
  {
   "cell_type": "code",
   "execution_count": 31,
   "metadata": {
    "collapsed": true
   },
   "outputs": [],
   "source": [
    "import tensorflow as tf\n",
    "\n",
    "EPOCHS = 10\n",
    "BATCH_SIZE = 128"
   ]
  },
  {
   "cell_type": "markdown",
   "metadata": {},
   "source": [
    "## TODO: Implement LeNet-5\n",
    "Implement the [LeNet-5](http://yann.lecun.com/exdb/lenet/) neural network architecture.\n",
    "\n",
    "This is the only cell you need to edit.\n",
    "### Input\n",
    "The LeNet architecture accepts a 32x32xC image as input, where C is the number of color channels. Since MNIST images are grayscale, C is 1 in this case.\n",
    "\n",
    "### Architecture\n",
    "**Layer 1: Convolutional.** The output shape should be 28x28x6.\n",
    "\n",
    "**Activation.** Your choice of activation function.\n",
    "\n",
    "**Pooling.** The output shape should be 14x14x6.\n",
    "\n",
    "**Layer 2: Convolutional.** The output shape should be 10x10x16.\n",
    "\n",
    "**Activation.** Your choice of activation function.\n",
    "\n",
    "**Pooling.** The output shape should be 5x5x16.\n",
    "\n",
    "**Flatten.** Flatten the output shape of the final pooling layer such that it's 1D instead of 3D. The easiest way to do is by using `tf.contrib.layers.flatten`, which is already imported for you.\n",
    "\n",
    "**Layer 3: Fully Connected.** This should have 120 outputs.\n",
    "\n",
    "**Activation.** Your choice of activation function.\n",
    "\n",
    "**Layer 4: Fully Connected.** This should have 84 outputs.\n",
    "\n",
    "**Activation.** Your choice of activation function.\n",
    "\n",
    "**Layer 5: Fully Connected (Logits).** This should have 10 outputs.\n",
    "\n",
    "### Output\n",
    "Return the result of the 2nd fully connected layer."
   ]
  },
  {
   "cell_type": "code",
   "execution_count": 32,
   "metadata": {
    "collapsed": true
   },
   "outputs": [],
   "source": [
    "def conv2d(x, W, b, strides=1):\n",
    "    x = tf.nn.conv2d(x, W, strides=[1, strides, strides, 1], padding='VALID')\n",
    "    x = tf.nn.bias_add(x, b)\n",
    "    return tf.nn.relu(x)\n",
    "\n",
    "def maxpool2d(x, k=2):\n",
    "    return tf.nn.max_pool(\n",
    "        x,\n",
    "        ksize=[1, k, k, 1],\n",
    "        strides=[1, k, k, 1],\n",
    "        padding='VALID')"
   ]
  },
  {
   "cell_type": "code",
   "execution_count": 33,
   "metadata": {
    "collapsed": true
   },
   "outputs": [],
   "source": [
    "### Define your architecture here.\n",
    "### Feel free to use as many code cells as needed.\n",
    "import tensorflow as tf\n",
    "\n",
    "# Misc methods\n",
    "shape1xx1 = lambda x: [1, x, x, 1]\n",
    "\n",
    "# Setup architecture parser\n",
    "\n",
    "def process_layer(layer, inbound):\n",
    "  outbound = inbound\n",
    "  # Create W and b:\n",
    "  if layer.get('init', None) is not None:\n",
    "    # We need weight and bias\n",
    "    W = tf.Variable(layer['init']['func'](**layer['init']['kwargs']))\n",
    "    b = tf.Variable(layer['init']['func']([layer['init']['kwargs']['shape'][-1]]))\n",
    "    outbound = layer['layer']['func'](inbound, W, **layer['layer']['kwargs'])\n",
    "    outbound = tf.nn.bias_add(outbound, b)\n",
    "  else:\n",
    "    # We don't need weight or bias\n",
    "    outbound = layer['layer']['func'](inbound, **layer['layer']['kwargs'])\n",
    "    \n",
    "  if layer.get('activation', None) is not None:\n",
    "    outbound = layer['activation']['func'](outbound, **layer['activation']['kwargs'])\n",
    "  return outbound\n",
    "   \n",
    "def neural_network(arch, x):\n",
    "  inbound = x\n",
    "  for layer in arch:\n",
    "    inbound = process_layer(layer, inbound)\n",
    "  return inbound\n",
    "\n",
    "mu = 0.\n",
    "sigma = 0.1\n",
    "\n",
    "# Specify architecture\n",
    "arch = [\n",
    "  {\n",
    "    'init': {\n",
    "      'func': tf.truncated_normal,\n",
    "      'kwargs': {\n",
    "        'shape': [5, 5, 1, 6],\n",
    "        'mean': mu,\n",
    "        'stddev': sigma\n",
    "      }\n",
    "    },\n",
    "    'layer': {\n",
    "      'func': tf.nn.conv2d,\n",
    "      'kwargs': {\n",
    "        'strides': shape1xx1(1),\n",
    "        'padding': 'VALID',\n",
    "      }\n",
    "    },\n",
    "    'activation': {\n",
    "      'func': tf.nn.relu,\n",
    "      'kwargs': {}\n",
    "    }\n",
    "  },\n",
    "  {\n",
    "    'init': None,\n",
    "    'layer': {\n",
    "      'func': tf.nn.max_pool,\n",
    "      'kwargs': {\n",
    "        'ksize': shape1xx1(2),\n",
    "        'strides': shape1xx1(2),\n",
    "        'padding': 'VALID',\n",
    "      }\n",
    "    },\n",
    "    'activation': None\n",
    "  },\n",
    "  {\n",
    "    'init': {\n",
    "      'func': tf.truncated_normal,\n",
    "      'kwargs': {\n",
    "        'shape': [5, 5, 6, 16],\n",
    "        'mean': mu,\n",
    "        'stddev': sigma\n",
    "      }\n",
    "    },\n",
    "    'layer': {\n",
    "      'func': tf.nn.conv2d,\n",
    "      'kwargs': {\n",
    "        'strides': shape1xx1(1),\n",
    "        'padding': 'VALID',\n",
    "      }\n",
    "    },\n",
    "    'activation': {\n",
    "      'func': tf.nn.relu,\n",
    "      'kwargs': {}\n",
    "    }\n",
    "  },\n",
    "  {\n",
    "    'init': None,\n",
    "    'layer': {\n",
    "      'func': tf.nn.max_pool,\n",
    "      'kwargs': {\n",
    "        'ksize': shape1xx1(2),\n",
    "        'strides': shape1xx1(2),\n",
    "        'padding': 'VALID',\n",
    "      }\n",
    "    },\n",
    "    'activation': None\n",
    "  },\n",
    "  {\n",
    "    'init': None,\n",
    "    'layer': {\n",
    "      'func': tf.contrib.layers.flatten,\n",
    "      'kwargs': {}\n",
    "    },\n",
    "    'activation': None\n",
    "  },\n",
    "  {\n",
    "    'init': {\n",
    "      'func': tf.truncated_normal,\n",
    "      'kwargs': {\n",
    "        'shape': [400, 120],\n",
    "        'mean': mu,\n",
    "        'stddev': sigma\n",
    "      }\n",
    "    },\n",
    "    'layer': {\n",
    "      'func': tf.matmul,\n",
    "      'kwargs': {}\n",
    "    },\n",
    "    'activation': {\n",
    "      'func': tf.nn.relu,\n",
    "      'kwargs': {}\n",
    "    }\n",
    "  },\n",
    "  {\n",
    "    'init': {\n",
    "      'func': tf.truncated_normal,\n",
    "      'kwargs': {\n",
    "        'shape': [120, 84],\n",
    "        'mean': mu,\n",
    "        'stddev': sigma\n",
    "      }\n",
    "    },\n",
    "    'layer': {\n",
    "      'func': tf.matmul,\n",
    "      'kwargs': {}\n",
    "    },\n",
    "    'activation': {\n",
    "      'func': tf.nn.relu,\n",
    "      'kwargs': {}\n",
    "    }\n",
    "  },\n",
    "  {\n",
    "    'init': {\n",
    "      'func': tf.truncated_normal,\n",
    "      'kwargs': {\n",
    "        'shape': [84, 10],\n",
    "        'mean': mu,\n",
    "        'stddev': sigma\n",
    "      }\n",
    "    },\n",
    "    'layer': {\n",
    "      'func': tf.matmul,\n",
    "      'kwargs': {}\n",
    "    },\n",
    "    'activation': None\n",
    "  }\n",
    "]\n"
   ]
  },
  {
   "cell_type": "code",
   "execution_count": 34,
   "metadata": {
    "collapsed": true
   },
   "outputs": [],
   "source": [
    "from tensorflow.contrib.layers import flatten\n",
    "\n",
    "def LeNet(x):    \n",
    "    # Arguments used for tf.truncated_normal, randomly defines variables for the weights and biases for each layer\n",
    "    mu = 0\n",
    "    sigma = 0.1\n",
    "    return neural_network(arch, x)\n",
    "#     # TODO: Layer 1: Convolutional. Input = 32x32x1. Output = 28x28x6.\n",
    "#     conv1_W = tf.Variable(tf.truncated_normal([5, 5, 1, 6], mean=mu, stddev=sigma))\n",
    "#     conv1_b = tf.Variable(tf.truncated_normal([6], mean=mu, stddev=sigma))\n",
    "#     # TODO: Activation.\n",
    "#     conv1 = conv2d(x, conv1_W, conv1_b, 1)\n",
    "\n",
    "#     # TODO: Pooling. Input = 28x28x6. Output = 14x14x6.\n",
    "#     maxpool1 = maxpool2d(conv1)\n",
    "    \n",
    "#     # TODO: Layer 2: Convolutional. Output = 10x10x16.\n",
    "#     conv2_W = tf.Variable(tf.truncated_normal([5, 5, 6, 16], mean=mu, stddev=sigma))\n",
    "#     conv2_b = tf.Variable(tf.truncated_normal([16], mean=mu, stddev=sigma))\n",
    "#     # TODO: Activation.\n",
    "#     conv2 = conv2d(maxpool1, conv2_W, conv2_b)\n",
    "    \n",
    "#     # TODO: Pooling. Input = 10x10x16. Output = 5x5x16.\n",
    "#     maxpool2 = maxpool2d(conv2)\n",
    "    \n",
    "#     # TODO: Flatten. Input = 5x5x16. Output = 400.\n",
    "#     flat = tf.reshape(maxpool2, [-1, 400]) \n",
    "#     # TODO: Layer 3: Fully Connected. Input = 400. Output = 120.\n",
    "#     fc_W = tf.Variable(tf.truncated_normal([5*5*16, 120], mean=mu, stddev=sigma))\n",
    "#     fc_b = tf.Variable(tf.truncated_normal([120], mean=mu, stddev=sigma))\n",
    "#     fc = tf.add(tf.matmul(flat, fc_W), fc_b)  \n",
    "    \n",
    "#     # TODO: Activation.\n",
    "#     fc = tf.nn.relu(fc)\n",
    "    \n",
    "#     # TODO: Layer 4: Fully Connected. Input = 120. Output = 84.\n",
    "#     fc1_W = tf.Variable(tf.truncated_normal([120, 84], mean=mu, stddev=sigma))\n",
    "#     fc1_b = tf.Variable(tf.truncated_normal([84], mean=mu, stddev=sigma))\n",
    "#     fc1 = tf.add(tf.matmul(fc, fc1_W), fc1_b)  \n",
    "#     # TODO: Activation.\n",
    "#     fc1 = tf.nn.relu(fc1)\n",
    "    \n",
    "#     # TODO: Layer 5: Fully Connected. Input = 84. Output = 10.\n",
    "#     out_W = tf.Variable(tf.truncated_normal([84, 10], mean=mu, stddev=sigma))\n",
    "#     out_b = tf.Variable(tf.truncated_normal([10], mean=mu, stddev=sigma))\n",
    "#     logits = tf.add(tf.matmul(fc1, out_W), out_b)\n",
    "    \n",
    "#     return logits"
   ]
  },
  {
   "cell_type": "markdown",
   "metadata": {},
   "source": [
    "## Features and Labels\n",
    "Train LeNet to classify [MNIST](http://yann.lecun.com/exdb/mnist/) data.\n",
    "\n",
    "`x` is a placeholder for a batch of input images.\n",
    "`y` is a placeholder for a batch of output labels.\n",
    "\n",
    "You do not need to modify this section."
   ]
  },
  {
   "cell_type": "code",
   "execution_count": 35,
   "metadata": {
    "collapsed": true
   },
   "outputs": [],
   "source": [
    "x = tf.placeholder(tf.float32, (None, 32, 32, 1))\n",
    "y = tf.placeholder(tf.int32, (None))\n",
    "one_hot_y = tf.one_hot(y, 10)"
   ]
  },
  {
   "cell_type": "markdown",
   "metadata": {},
   "source": [
    "## Training Pipeline\n",
    "Create a training pipeline that uses the model to classify MNIST data.\n",
    "\n",
    "You do not need to modify this section."
   ]
  },
  {
   "cell_type": "code",
   "execution_count": 36,
   "metadata": {},
   "outputs": [],
   "source": [
    "rate = 0.001\n",
    "\n",
    "logits = LeNet(x)\n",
    "cross_entropy = tf.nn.softmax_cross_entropy_with_logits(labels=one_hot_y, logits=logits)\n",
    "loss_operation = tf.reduce_mean(cross_entropy)\n",
    "optimizer = tf.train.AdamOptimizer(learning_rate = rate)\n",
    "training_operation = optimizer.minimize(loss_operation)"
   ]
  },
  {
   "cell_type": "markdown",
   "metadata": {},
   "source": [
    "## Model Evaluation\n",
    "Evaluate how well the loss and accuracy of the model for a given dataset.\n",
    "\n",
    "You do not need to modify this section."
   ]
  },
  {
   "cell_type": "code",
   "execution_count": 37,
   "metadata": {
    "collapsed": true
   },
   "outputs": [],
   "source": [
    "correct_prediction = tf.equal(tf.argmax(logits, 1), tf.argmax(one_hot_y, 1))\n",
    "accuracy_operation = tf.reduce_mean(tf.cast(correct_prediction, tf.float32))\n",
    "saver = tf.train.Saver()\n",
    "\n",
    "def evaluate(X_data, y_data):\n",
    "    num_examples = len(X_data)\n",
    "    total_accuracy = 0\n",
    "    sess = tf.get_default_session()\n",
    "    for offset in range(0, num_examples, BATCH_SIZE):\n",
    "        batch_x, batch_y = X_data[offset:offset+BATCH_SIZE], y_data[offset:offset+BATCH_SIZE]\n",
    "        accuracy = sess.run(accuracy_operation, feed_dict={x: batch_x, y: batch_y})\n",
    "        total_accuracy += (accuracy * len(batch_x))\n",
    "    return total_accuracy / num_examples"
   ]
  },
  {
   "cell_type": "markdown",
   "metadata": {},
   "source": [
    "## Train the Model\n",
    "Run the training data through the training pipeline to train the model.\n",
    "\n",
    "Before each epoch, shuffle the training set.\n",
    "\n",
    "After each epoch, measure the loss and accuracy of the validation set.\n",
    "\n",
    "Save the model after training.\n",
    "\n",
    "You do not need to modify this section."
   ]
  },
  {
   "cell_type": "code",
   "execution_count": 38,
   "metadata": {},
   "outputs": [
    {
     "name": "stdout",
     "output_type": "stream",
     "text": [
      "Training...\n",
      "\n",
      "EPOCH 1 ...\n",
      "Validation Accuracy = 0.937\n",
      "\n",
      "EPOCH 2 ...\n",
      "Validation Accuracy = 0.968\n",
      "\n",
      "EPOCH 3 ...\n",
      "Validation Accuracy = 0.975\n",
      "\n",
      "EPOCH 4 ...\n",
      "Validation Accuracy = 0.979\n",
      "\n",
      "EPOCH 5 ...\n",
      "Validation Accuracy = 0.976\n",
      "\n",
      "EPOCH 6 ...\n",
      "Validation Accuracy = 0.978\n",
      "\n",
      "EPOCH 7 ...\n",
      "Validation Accuracy = 0.980\n",
      "\n",
      "EPOCH 8 ...\n",
      "Validation Accuracy = 0.980\n",
      "\n",
      "EPOCH 9 ...\n",
      "Validation Accuracy = 0.986\n",
      "\n",
      "EPOCH 10 ...\n",
      "Validation Accuracy = 0.986\n",
      "\n",
      "Model saved\n"
     ]
    }
   ],
   "source": [
    "with tf.Session() as sess:\n",
    "    sess.run(tf.global_variables_initializer())\n",
    "    num_examples = len(X_train)\n",
    "    \n",
    "    print(\"Training...\")\n",
    "    print()\n",
    "    for i in range(EPOCHS):\n",
    "        X_train, y_train = shuffle(X_train, y_train)\n",
    "        for offset in range(0, num_examples, BATCH_SIZE):\n",
    "            end = offset + BATCH_SIZE\n",
    "            batch_x, batch_y = X_train[offset:end], y_train[offset:end]\n",
    "            sess.run(training_operation, feed_dict={x: batch_x, y: batch_y})\n",
    "            \n",
    "        validation_accuracy = evaluate(X_validation, y_validation)\n",
    "        print(\"EPOCH {} ...\".format(i+1))\n",
    "        print(\"Validation Accuracy = {:.3f}\".format(validation_accuracy))\n",
    "        print()\n",
    "        \n",
    "    saver.save(sess, './lenet')\n",
    "    print(\"Model saved\")"
   ]
  },
  {
   "cell_type": "markdown",
   "metadata": {},
   "source": [
    "## Evaluate the Model\n",
    "Once you are completely satisfied with your model, evaluate the performance of the model on the test set.\n",
    "\n",
    "Be sure to only do this once!\n",
    "\n",
    "If you were to measure the performance of your trained model on the test set, then improve your model, and then measure the performance of your model on the test set again, that would invalidate your test results. You wouldn't get a true measure of how well your model would perform against real data.\n",
    "\n",
    "You do not need to modify this section."
   ]
  },
  {
   "cell_type": "code",
   "execution_count": 39,
   "metadata": {},
   "outputs": [
    {
     "name": "stdout",
     "output_type": "stream",
     "text": [
      "INFO:tensorflow:Restoring parameters from ./lenet\n",
      "Test Accuracy = 0.983\n"
     ]
    }
   ],
   "source": [
    "with tf.Session() as sess:\n",
    "    saver.restore(sess, tf.train.latest_checkpoint('.'))\n",
    "\n",
    "    test_accuracy = evaluate(X_test, y_test)\n",
    "    print(\"Test Accuracy = {:.3f}\".format(test_accuracy))"
   ]
  },
  {
   "cell_type": "code",
   "execution_count": null,
   "metadata": {
    "collapsed": true
   },
   "outputs": [],
   "source": []
  }
 ],
 "metadata": {
  "anaconda-cloud": {},
  "kernelspec": {
   "display_name": "Python 3 (Udacity ML)",
   "language": "python",
   "name": "udacity_ml3"
  },
  "language_info": {
   "codemirror_mode": {
    "name": "ipython",
    "version": 3
   },
   "file_extension": ".py",
   "mimetype": "text/x-python",
   "name": "python",
   "nbconvert_exporter": "python",
   "pygments_lexer": "ipython3",
   "version": "3.4.3"
  },
  "widgets": {
   "state": {},
   "version": "1.1.2"
  }
 },
 "nbformat": 4,
 "nbformat_minor": 1
}
